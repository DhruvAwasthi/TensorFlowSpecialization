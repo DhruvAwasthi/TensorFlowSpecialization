{
 "cells": [
  {
   "cell_type": "code",
   "execution_count": 0,
   "metadata": {
    "colab": {},
    "colab_type": "code",
    "id": "zX4Kg8DUTKWO"
   },
   "outputs": [],
   "source": [
    "#@title Licensed under the Apache License, Version 2.0 (the \"License\");\n",
    "# you may not use this file except in compliance with the License.\n",
    "# You may obtain a copy of the License at\n",
    "#\n",
    "# https://www.apache.org/licenses/LICENSE-2.0\n",
    "#\n",
    "# Unless required by applicable law or agreed to in writing, software\n",
    "# distributed under the License is distributed on an \"AS IS\" BASIS,\n",
    "# WITHOUT WARRANTIES OR CONDITIONS OF ANY KIND, either express or implied.\n",
    "# See the License for the specific language governing permissions and\n",
    "# limitations under the License."
   ]
  },
  {
   "cell_type": "code",
   "execution_count": 0,
   "metadata": {
    "colab": {},
    "colab_type": "code",
    "id": "hmA6EzkQJ5jt"
   },
   "outputs": [],
   "source": [
    "import json\n",
    "import tensorflow as tf\n",
    "import csv\n",
    "import random\n",
    "import numpy as np\n",
    "\n",
    "from tensorflow.keras.preprocessing.text import Tokenizer\n",
    "from tensorflow.keras.preprocessing.sequence import pad_sequences\n",
    "from tensorflow.keras.utils import to_categorical\n",
    "from tensorflow.keras import regularizers\n",
    "\n",
    "\n",
    "embedding_dim = 100\n",
    "max_length = 16\n",
    "trunc_type='post'\n",
    "padding_type='post'\n",
    "oov_tok = \"<OOV>\"\n",
    "training_size = 160000 \n",
    "test_portion=.1\n",
    "\n",
    "corpus = []"
   ]
  },
  {
   "cell_type": "code",
   "execution_count": 12,
   "metadata": {
    "colab": {
     "base_uri": "https://localhost:8080/",
     "height": 208
    },
    "colab_type": "code",
    "id": "bM0l_dORKqE0",
    "outputId": "06c536b6-4a9e-4b05-c7e6-ea9804f8b3a0"
   },
   "outputs": [
    {
     "name": "stdout",
     "output_type": "stream",
     "text": [
      "--2020-06-01 15:09:54--  https://storage.googleapis.com/laurencemoroney-blog.appspot.com/training_cleaned.csv\n",
      "Resolving storage.googleapis.com (storage.googleapis.com)... 108.177.119.128, 2a00:1450:4013:c01::80\n",
      "Connecting to storage.googleapis.com (storage.googleapis.com)|108.177.119.128|:443... connected.\n",
      "HTTP request sent, awaiting response... 200 OK\n",
      "Length: 238942690 (228M) [application/octet-stream]\n",
      "Saving to: ‘/tmp/training_cleaned.csv’\n",
      "\n",
      "/tmp/training_clean 100%[===================>] 227.87M   119MB/s    in 1.9s    \n",
      "\n",
      "2020-06-01 15:09:56 (119 MB/s) - ‘/tmp/training_cleaned.csv’ saved [238942690/238942690]\n",
      "\n"
     ]
    }
   ],
   "source": [
    "# Note that I cleaned the Stanford dataset to remove LATIN1 encoding to make it easier for Python CSV reader\n",
    "# You can do that yourself with:\n",
    "# iconv -f LATIN1 -t UTF8 training.1600000.processed.noemoticon.csv -o training_cleaned.csv\n",
    "# I then hosted it on my site to make it easier to use in this notebook\n",
    "\n",
    "!wget --no-check-certificate \\\n",
    "    https://storage.googleapis.com/laurencemoroney-blog.appspot.com/training_cleaned.csv \\\n",
    "    -O /tmp/training_cleaned.csv\n",
    "\n",
    "num_sentences = 0\n",
    "\n",
    "with open(\"/tmp/training_cleaned.csv\") as csvfile:\n",
    "    reader = csv.reader(csvfile, delimiter=',')\n",
    "    for row in reader:\n",
    "      # Your Code here. Create list items where the first item is the text, found in row[5], and the second is the label. Note that the label is a '0' or a '4' in the text. When it's the former, make\n",
    "      # your label to be 0, otherwise 1. Keep a count of the number of sentences in num_sentences\n",
    "        list_item=[]\n",
    "        list_item.append(row[5])\n",
    "        this_label=row[0]\n",
    "        if this_label=='0':\n",
    "          list_item.append(0)\n",
    "        else:\n",
    "          list_item.append(1)\n",
    "        num_sentences = num_sentences + 1\n",
    "        corpus.append(list_item)\n"
   ]
  },
  {
   "cell_type": "code",
   "execution_count": 13,
   "metadata": {
    "colab": {
     "base_uri": "https://localhost:8080/",
     "height": 69
    },
    "colab_type": "code",
    "id": "3kxblBUjEUX-",
    "outputId": "aa2d2e44-84ea-4761-89eb-3aa68a98b4f8"
   },
   "outputs": [
    {
     "name": "stdout",
     "output_type": "stream",
     "text": [
      "1600000\n",
      "1600000\n",
      "[\"is upset that he can't update his Facebook by texting it... and might cry as a result  School today also. Blah!\", 0]\n"
     ]
    }
   ],
   "source": [
    "print(num_sentences)\n",
    "print(len(corpus))\n",
    "print(corpus[1])\n",
    "\n",
    "# Expected Output:\n",
    "# 1600000\n",
    "# 1600000\n",
    "# [\"is upset that he can't update his Facebook by texting it... and might cry as a result  School today also. Blah!\", 0]"
   ]
  },
  {
   "cell_type": "code",
   "execution_count": 0,
   "metadata": {
    "colab": {},
    "colab_type": "code",
    "id": "ohOGz24lsNAD"
   },
   "outputs": [],
   "source": [
    "sentences=[]\n",
    "labels=[]\n",
    "random.shuffle(corpus)\n",
    "for x in range(training_size):\n",
    "    sentences.append(corpus[x][0])\n",
    "    labels.append(corpus[x][1])\n",
    "\n",
    "\n",
    "tokenizer = Tokenizer()\n",
    "tokenizer.fit_on_texts(sentences)\n",
    "\n",
    "word_index = tokenizer.word_index\n",
    "vocab_size=len(word_index)\n",
    "\n",
    "sequences = tokenizer.texts_to_sequences(sentences)\n",
    "padded = pad_sequences(sequences, padding=padding_type, truncating=trunc_type, maxlen=max_length)\n",
    "\n",
    "split = int(test_portion * training_size)\n",
    "\n",
    "test_sequences = np.array(padded[0:split])\n",
    "training_sequences = np.array(padded[split:training_size])\n",
    "test_labels = np.array(labels[0:split])\n",
    "training_labels = np.array(labels[split:training_size])"
   ]
  },
  {
   "cell_type": "code",
   "execution_count": 15,
   "metadata": {
    "colab": {
     "base_uri": "https://localhost:8080/",
     "height": 52
    },
    "colab_type": "code",
    "id": "gIrtRem1En3N",
    "outputId": "3e94c8e6-39cb-4ce9-b8ec-ff3a6482fba6"
   },
   "outputs": [
    {
     "name": "stdout",
     "output_type": "stream",
     "text": [
      "138757\n",
      "1\n"
     ]
    }
   ],
   "source": [
    "print(vocab_size)\n",
    "print(word_index['i'])\n",
    "# Expected Output\n",
    "# 138858\n",
    "# 1"
   ]
  },
  {
   "cell_type": "code",
   "execution_count": 16,
   "metadata": {
    "colab": {
     "base_uri": "https://localhost:8080/",
     "height": 208
    },
    "colab_type": "code",
    "id": "C1zdgJkusRh0",
    "outputId": "c52065cf-b6a2-4411-d577-56567b1729d1"
   },
   "outputs": [
    {
     "name": "stdout",
     "output_type": "stream",
     "text": [
      "--2020-06-01 15:10:12--  https://storage.googleapis.com/laurencemoroney-blog.appspot.com/glove.6B.100d.txt\n",
      "Resolving storage.googleapis.com (storage.googleapis.com)... 108.177.126.128, 2a00:1450:4013:c00::80\n",
      "Connecting to storage.googleapis.com (storage.googleapis.com)|108.177.126.128|:443... connected.\n",
      "HTTP request sent, awaiting response... 200 OK\n",
      "Length: 347116733 (331M) [text/plain]\n",
      "Saving to: ‘/tmp/glove.6B.100d.txt’\n",
      "\n",
      "/tmp/glove.6B.100d. 100%[===================>] 331.04M  88.7MB/s    in 3.7s    \n",
      "\n",
      "2020-06-01 15:10:16 (88.7 MB/s) - ‘/tmp/glove.6B.100d.txt’ saved [347116733/347116733]\n",
      "\n"
     ]
    }
   ],
   "source": [
    "# Note this is the 100 dimension version of GloVe from Stanford\n",
    "# I unzipped and hosted it on my site to make this notebook easier\n",
    "!wget --no-check-certificate \\\n",
    "    https://storage.googleapis.com/laurencemoroney-blog.appspot.com/glove.6B.100d.txt \\\n",
    "    -O /tmp/glove.6B.100d.txt\n",
    "embeddings_index = {};\n",
    "with open('/tmp/glove.6B.100d.txt') as f:\n",
    "    for line in f:\n",
    "        values = line.split();\n",
    "        word = values[0];\n",
    "        coefs = np.asarray(values[1:], dtype='float32');\n",
    "        embeddings_index[word] = coefs;\n",
    "\n",
    "embeddings_matrix = np.zeros((vocab_size+1, embedding_dim));\n",
    "for word, i in word_index.items():\n",
    "    embedding_vector = embeddings_index.get(word);\n",
    "    if embedding_vector is not None:\n",
    "        embeddings_matrix[i] = embedding_vector;"
   ]
  },
  {
   "cell_type": "code",
   "execution_count": 17,
   "metadata": {
    "colab": {
     "base_uri": "https://localhost:8080/",
     "height": 34
    },
    "colab_type": "code",
    "id": "71NLk_lpFLNt",
    "outputId": "aa97ee3f-d369-4fdf-805d-204b5432d446"
   },
   "outputs": [
    {
     "name": "stdout",
     "output_type": "stream",
     "text": [
      "138758\n"
     ]
    }
   ],
   "source": [
    "print(len(embeddings_matrix))\n",
    "# Expected Output\n",
    "# 138859"
   ]
  },
  {
   "cell_type": "code",
   "execution_count": 18,
   "metadata": {
    "colab": {
     "base_uri": "https://localhost:8080/",
     "height": 1000
    },
    "colab_type": "code",
    "id": "iKKvbuEBOGFz",
    "outputId": "220542a6-740b-4cd1-d696-2db691d39a43"
   },
   "outputs": [
    {
     "name": "stdout",
     "output_type": "stream",
     "text": [
      "Model: \"sequential_1\"\n",
      "_________________________________________________________________\n",
      "Layer (type)                 Output Shape              Param #   \n",
      "=================================================================\n",
      "embedding_1 (Embedding)      (None, 16, 100)           13875800  \n",
      "_________________________________________________________________\n",
      "dropout_1 (Dropout)          (None, 16, 100)           0         \n",
      "_________________________________________________________________\n",
      "conv1d_1 (Conv1D)            (None, 12, 64)            32064     \n",
      "_________________________________________________________________\n",
      "max_pooling1d_1 (MaxPooling1 (None, 3, 64)             0         \n",
      "_________________________________________________________________\n",
      "lstm_1 (LSTM)                (None, 64)                33024     \n",
      "_________________________________________________________________\n",
      "dense_1 (Dense)              (None, 1)                 65        \n",
      "=================================================================\n",
      "Total params: 13,940,953\n",
      "Trainable params: 65,153\n",
      "Non-trainable params: 13,875,800\n",
      "_________________________________________________________________\n",
      "Epoch 1/50\n",
      "4500/4500 - 16s - loss: 0.5652 - accuracy: 0.7017 - val_loss: 0.5237 - val_accuracy: 0.7369\n",
      "Epoch 2/50\n",
      "4500/4500 - 16s - loss: 0.5245 - accuracy: 0.7343 - val_loss: 0.5131 - val_accuracy: 0.7428\n",
      "Epoch 3/50\n",
      "4500/4500 - 16s - loss: 0.5079 - accuracy: 0.7460 - val_loss: 0.5045 - val_accuracy: 0.7546\n",
      "Epoch 4/50\n",
      "4500/4500 - 16s - loss: 0.4964 - accuracy: 0.7540 - val_loss: 0.4952 - val_accuracy: 0.7525\n",
      "Epoch 5/50\n",
      "4500/4500 - 16s - loss: 0.4882 - accuracy: 0.7594 - val_loss: 0.4917 - val_accuracy: 0.7592\n",
      "Epoch 6/50\n",
      "4500/4500 - 16s - loss: 0.4816 - accuracy: 0.7645 - val_loss: 0.4898 - val_accuracy: 0.7596\n",
      "Epoch 7/50\n",
      "4500/4500 - 16s - loss: 0.4749 - accuracy: 0.7682 - val_loss: 0.4915 - val_accuracy: 0.7581\n",
      "Epoch 8/50\n",
      "4500/4500 - 16s - loss: 0.4702 - accuracy: 0.7709 - val_loss: 0.4907 - val_accuracy: 0.7582\n",
      "Epoch 9/50\n",
      "4500/4500 - 17s - loss: 0.4654 - accuracy: 0.7737 - val_loss: 0.4916 - val_accuracy: 0.7600\n",
      "Epoch 10/50\n",
      "4500/4500 - 16s - loss: 0.4609 - accuracy: 0.7768 - val_loss: 0.4870 - val_accuracy: 0.7595\n",
      "Epoch 11/50\n",
      "4500/4500 - 16s - loss: 0.4584 - accuracy: 0.7777 - val_loss: 0.4991 - val_accuracy: 0.7554\n",
      "Epoch 12/50\n",
      "4500/4500 - 16s - loss: 0.4558 - accuracy: 0.7806 - val_loss: 0.4928 - val_accuracy: 0.7555\n",
      "Epoch 13/50\n",
      "4500/4500 - 16s - loss: 0.4523 - accuracy: 0.7816 - val_loss: 0.4929 - val_accuracy: 0.7588\n",
      "Epoch 14/50\n",
      "4500/4500 - 16s - loss: 0.4503 - accuracy: 0.7842 - val_loss: 0.4923 - val_accuracy: 0.7584\n",
      "Epoch 15/50\n",
      "4500/4500 - 16s - loss: 0.4484 - accuracy: 0.7848 - val_loss: 0.4907 - val_accuracy: 0.7584\n",
      "Epoch 16/50\n",
      "4500/4500 - 16s - loss: 0.4472 - accuracy: 0.7856 - val_loss: 0.5016 - val_accuracy: 0.7569\n",
      "Epoch 17/50\n",
      "4500/4500 - 16s - loss: 0.4455 - accuracy: 0.7866 - val_loss: 0.4989 - val_accuracy: 0.7581\n",
      "Epoch 18/50\n",
      "4500/4500 - 16s - loss: 0.4445 - accuracy: 0.7866 - val_loss: 0.4959 - val_accuracy: 0.7569\n",
      "Epoch 19/50\n",
      "4500/4500 - 16s - loss: 0.4422 - accuracy: 0.7872 - val_loss: 0.4987 - val_accuracy: 0.7609\n",
      "Epoch 20/50\n",
      "4500/4500 - 16s - loss: 0.4409 - accuracy: 0.7889 - val_loss: 0.4977 - val_accuracy: 0.7598\n",
      "Epoch 21/50\n",
      "4500/4500 - 16s - loss: 0.4401 - accuracy: 0.7895 - val_loss: 0.4956 - val_accuracy: 0.7552\n",
      "Epoch 22/50\n",
      "4500/4500 - 16s - loss: 0.4383 - accuracy: 0.7911 - val_loss: 0.4963 - val_accuracy: 0.7594\n",
      "Epoch 23/50\n",
      "4500/4500 - 16s - loss: 0.4375 - accuracy: 0.7901 - val_loss: 0.5023 - val_accuracy: 0.7542\n",
      "Epoch 24/50\n",
      "4500/4500 - 16s - loss: 0.4372 - accuracy: 0.7908 - val_loss: 0.4970 - val_accuracy: 0.7531\n",
      "Epoch 25/50\n",
      "4500/4500 - 16s - loss: 0.4357 - accuracy: 0.7929 - val_loss: 0.5014 - val_accuracy: 0.7558\n",
      "Epoch 26/50\n",
      "4500/4500 - 16s - loss: 0.4349 - accuracy: 0.7920 - val_loss: 0.5056 - val_accuracy: 0.7539\n",
      "Epoch 27/50\n",
      "4500/4500 - 16s - loss: 0.4350 - accuracy: 0.7930 - val_loss: 0.5044 - val_accuracy: 0.7604\n",
      "Epoch 28/50\n",
      "4500/4500 - 16s - loss: 0.4331 - accuracy: 0.7929 - val_loss: 0.5001 - val_accuracy: 0.7533\n",
      "Epoch 29/50\n",
      "4500/4500 - 16s - loss: 0.4326 - accuracy: 0.7941 - val_loss: 0.5018 - val_accuracy: 0.7566\n",
      "Epoch 30/50\n",
      "4500/4500 - 16s - loss: 0.4317 - accuracy: 0.7943 - val_loss: 0.5038 - val_accuracy: 0.7556\n",
      "Epoch 31/50\n",
      "4500/4500 - 16s - loss: 0.4319 - accuracy: 0.7942 - val_loss: 0.5075 - val_accuracy: 0.7572\n",
      "Epoch 32/50\n",
      "4500/4500 - 16s - loss: 0.4314 - accuracy: 0.7946 - val_loss: 0.5049 - val_accuracy: 0.7565\n",
      "Epoch 33/50\n",
      "4500/4500 - 16s - loss: 0.4297 - accuracy: 0.7953 - val_loss: 0.5057 - val_accuracy: 0.7574\n",
      "Epoch 34/50\n",
      "4500/4500 - 16s - loss: 0.4305 - accuracy: 0.7949 - val_loss: 0.5053 - val_accuracy: 0.7547\n",
      "Epoch 35/50\n",
      "4500/4500 - 16s - loss: 0.4298 - accuracy: 0.7960 - val_loss: 0.5097 - val_accuracy: 0.7538\n",
      "Epoch 36/50\n",
      "4500/4500 - 16s - loss: 0.4299 - accuracy: 0.7959 - val_loss: 0.5082 - val_accuracy: 0.7516\n",
      "Epoch 37/50\n",
      "4500/4500 - 16s - loss: 0.4294 - accuracy: 0.7958 - val_loss: 0.5012 - val_accuracy: 0.7537\n",
      "Epoch 38/50\n",
      "4500/4500 - 16s - loss: 0.4287 - accuracy: 0.7966 - val_loss: 0.5060 - val_accuracy: 0.7556\n",
      "Epoch 39/50\n",
      "4500/4500 - 16s - loss: 0.4291 - accuracy: 0.7949 - val_loss: 0.5080 - val_accuracy: 0.7545\n",
      "Epoch 40/50\n",
      "4500/4500 - 16s - loss: 0.4279 - accuracy: 0.7970 - val_loss: 0.5116 - val_accuracy: 0.7526\n",
      "Epoch 41/50\n",
      "4500/4500 - 16s - loss: 0.4290 - accuracy: 0.7960 - val_loss: 0.5096 - val_accuracy: 0.7520\n",
      "Epoch 42/50\n",
      "4500/4500 - 16s - loss: 0.4283 - accuracy: 0.7969 - val_loss: 0.5103 - val_accuracy: 0.7517\n",
      "Epoch 43/50\n",
      "4500/4500 - 16s - loss: 0.4264 - accuracy: 0.7971 - val_loss: 0.5124 - val_accuracy: 0.7555\n",
      "Epoch 44/50\n",
      "4500/4500 - 16s - loss: 0.4279 - accuracy: 0.7955 - val_loss: 0.5085 - val_accuracy: 0.7536\n",
      "Epoch 45/50\n",
      "4500/4500 - 16s - loss: 0.4267 - accuracy: 0.7976 - val_loss: 0.5094 - val_accuracy: 0.7523\n",
      "Epoch 46/50\n",
      "4500/4500 - 16s - loss: 0.4277 - accuracy: 0.7973 - val_loss: 0.5131 - val_accuracy: 0.7528\n",
      "Epoch 47/50\n",
      "4500/4500 - 16s - loss: 0.4237 - accuracy: 0.8000 - val_loss: 0.5116 - val_accuracy: 0.7524\n",
      "Epoch 48/50\n",
      "4500/4500 - 17s - loss: 0.4262 - accuracy: 0.7980 - val_loss: 0.5135 - val_accuracy: 0.7510\n",
      "Epoch 49/50\n",
      "4500/4500 - 16s - loss: 0.4255 - accuracy: 0.7980 - val_loss: 0.5145 - val_accuracy: 0.7508\n",
      "Epoch 50/50\n",
      "4500/4500 - 16s - loss: 0.4265 - accuracy: 0.7968 - val_loss: 0.5133 - val_accuracy: 0.7538\n",
      "Training Complete\n"
     ]
    }
   ],
   "source": [
    "model = tf.keras.Sequential([\n",
    "    tf.keras.layers.Embedding(vocab_size+1, embedding_dim, input_length=max_length, weights=[embeddings_matrix], trainable=False),\n",
    "    tf.keras.layers.Dropout(0.2),\n",
    "    tf.keras.layers.Conv1D(64, 5, activation='relu'),\n",
    "    tf.keras.layers.MaxPooling1D(pool_size=4),\n",
    "    tf.keras.layers.LSTM(64),\n",
    "    tf.keras.layers.Dense(1, activation='sigmoid'),\n",
    "])\n",
    "model.compile(loss='binary_crossentropy', optimizer='adam', metrics=['accuracy'])\n",
    "model.summary()\n",
    "\n",
    "num_epochs = 50\n",
    "history = model.fit(training_sequences, training_labels, epochs=num_epochs, validation_data=(test_sequences, test_labels), verbose=2)\n",
    "\n",
    "print(\"Training Complete\")\n"
   ]
  },
  {
   "cell_type": "code",
   "execution_count": 19,
   "metadata": {
    "colab": {
     "base_uri": "https://localhost:8080/",
     "height": 608
    },
    "colab_type": "code",
    "id": "qxju4ItJKO8F",
    "outputId": "aef03194-aa12-4986-c720-0ded11a6826d"
   },
   "outputs": [
    {
     "data": {
      "text/plain": [
       "<Figure size 432x288 with 0 Axes>"
      ]
     },
     "execution_count": 19,
     "metadata": {
      "tags": []
     },
     "output_type": "execute_result"
    },
    {
     "data": {
      "image/png": "[encoded data removed]",
      "text/plain": [
       "<Figure size 432x288 with 1 Axes>"
      ]
     },
     "metadata": {
      "needs_background": "light",
      "tags": []
     },
     "output_type": "display_data"
    },
    {
     "data": {
      "image/png": "[encoded data removed]",
      "text/plain": [
       "<Figure size 432x288 with 1 Axes>"
      ]
     },
     "metadata": {
      "needs_background": "light",
      "tags": []
     },
     "output_type": "display_data"
    },
    {
     "data": {
      "text/plain": [
       "<Figure size 432x288 with 0 Axes>"
      ]
     },
     "metadata": {
      "tags": []
     },
     "output_type": "display_data"
    }
   ],
   "source": [
    "import matplotlib.image  as mpimg\n",
    "import matplotlib.pyplot as plt\n",
    "\n",
    "#-----------------------------------------------------------\n",
    "# Retrieve a list of list results on training and test data\n",
    "# sets for each training epoch\n",
    "#-----------------------------------------------------------\n",
    "acc=history.history['accuracy']\n",
    "val_acc=history.history['val_accuracy']\n",
    "loss=history.history['loss']\n",
    "val_loss=history.history['val_loss']\n",
    "\n",
    "epochs=range(len(acc)) # Get number of epochs\n",
    "\n",
    "#------------------------------------------------\n",
    "# Plot training and validation accuracy per epoch\n",
    "#------------------------------------------------\n",
    "plt.plot(epochs, acc, 'r')\n",
    "plt.plot(epochs, val_acc, 'b')\n",
    "plt.title('Training and validation accuracy')\n",
    "plt.xlabel(\"Epochs\")\n",
    "plt.ylabel(\"Accuracy\")\n",
    "plt.legend([\"Accuracy\", \"Validation Accuracy\"])\n",
    "\n",
    "plt.figure()\n",
    "\n",
    "#------------------------------------------------\n",
    "# Plot training and validation loss per epoch\n",
    "#------------------------------------------------\n",
    "plt.plot(epochs, loss, 'r')\n",
    "plt.plot(epochs, val_loss, 'b')\n",
    "plt.title('Training and validation loss')\n",
    "plt.xlabel(\"Epochs\")\n",
    "plt.ylabel(\"Loss\")\n",
    "plt.legend([\"Loss\", \"Validation Loss\"])\n",
    "\n",
    "plt.figure()\n",
    "\n",
    "\n",
    "# Expected Output\n",
    "# A chart where the validation loss does not increase sharply!"
   ]
  },
  {
   "cell_type": "code",
   "execution_count": 0,
   "metadata": {
    "colab": {},
    "colab_type": "code",
    "id": "dZlOQnhcZu9U"
   },
   "outputs": [],
   "source": []
  }
 ],
 "metadata": {
  "accelerator": "GPU",
  "colab": {
   "name": "NLP Course - Week 3 Exercise Question.ipynb",
   "provenance": [],
   "toc_visible": true
  },
  "kernelspec": {
   "display_name": "Python 3",
   "language": "python",
   "name": "python3"
  },
  "language_info": {
   "codemirror_mode": {
    "name": "ipython",
    "version": 3
   },
   "file_extension": ".py",
   "mimetype": "text/x-python",
   "name": "python",
   "nbconvert_exporter": "python",
   "pygments_lexer": "ipython3",
   "version": "3.7.6"
  }
 },
 "nbformat": 4,
 "nbformat_minor": 1
}
