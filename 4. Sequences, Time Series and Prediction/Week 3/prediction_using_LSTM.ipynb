{
  "nbformat": 4,
  "nbformat_minor": 0,
  "metadata": {
    "colab": {
      "name": "S+P Week 3 Lesson 4 - LSTM.ipynb",
      "provenance": [],
      "collapsed_sections": [],
      "toc_visible": true
    },
    "kernelspec": {
      "display_name": "Python 3",
      "name": "python3"
    }
  },
  "cells": [
    {
      "cell_type": "code",
      "metadata": {
        "id": "zX4Kg8DUTKWO",
        "colab_type": "code",
        "colab": {}
      },
      "source": [
        "#@title Licensed under the Apache License, Version 2.0 (the \"License\");\n",
        "# you may not use this file except in compliance with the License.\n",
        "# You may obtain a copy of the License at\n",
        "#\n",
        "# https://www.apache.org/licenses/LICENSE-2.0\n",
        "#\n",
        "# Unless required by applicable law or agreed to in writing, software\n",
        "# distributed under the License is distributed on an \"AS IS\" BASIS,\n",
        "# WITHOUT WARRANTIES OR CONDITIONS OF ANY KIND, either express or implied.\n",
        "# See the License for the specific language governing permissions and\n",
        "# limitations under the License."
      ],
      "execution_count": 0,
      "outputs": []
    },
    {
      "cell_type": "code",
      "metadata": {
        "colab_type": "code",
        "id": "BOjujz601HcS",
        "outputId": "1267b1e1-be94-4b93-82da-66609c8bcb35",
        "colab": {
          "base_uri": "https://localhost:8080/",
          "height": 34
        }
      },
      "source": [
        "import tensorflow as tf\n",
        "import numpy as np\n",
        "import matplotlib.pyplot as plt\n",
        "print(tf.__version__)"
      ],
      "execution_count": 4,
      "outputs": [
        {
          "output_type": "stream",
          "text": [
            "2.2.0\n"
          ],
          "name": "stdout"
        }
      ]
    },
    {
      "cell_type": "code",
      "metadata": {
        "colab_type": "code",
        "id": "Zswl7jRtGzkk",
        "colab": {}
      },
      "source": [
        "def plot_series(time, series, format=\"-\", start=0, end=None):\n",
        "    plt.plot(time[start:end], series[start:end], format)\n",
        "    plt.xlabel(\"Time\")\n",
        "    plt.ylabel(\"Value\")\n",
        "    plt.grid(True)\n",
        "\n",
        "def trend(time, slope=0):\n",
        "    return slope * time\n",
        "\n",
        "def seasonal_pattern(season_time):\n",
        "    \"\"\"Just an arbitrary pattern, you can change it if you wish\"\"\"\n",
        "    return np.where(season_time < 0.4,\n",
        "                    np.cos(season_time * 2 * np.pi),\n",
        "                    1 / np.exp(3 * season_time))\n",
        "\n",
        "def seasonality(time, period, amplitude=1, phase=0):\n",
        "    \"\"\"Repeats the same pattern at each period\"\"\"\n",
        "    season_time = ((time + phase) % period) / period\n",
        "    return amplitude * seasonal_pattern(season_time)\n",
        "\n",
        "def noise(time, noise_level=1, seed=None):\n",
        "    rnd = np.random.RandomState(seed)\n",
        "    return rnd.randn(len(time)) * noise_level\n",
        "\n",
        "time = np.arange(4 * 365 + 1, dtype=\"float32\")\n",
        "baseline = 10\n",
        "series = trend(time, 0.1)  \n",
        "baseline = 10\n",
        "amplitude = 40\n",
        "slope = 0.05\n",
        "noise_level = 5\n",
        "\n",
        "# Create the series\n",
        "series = baseline + trend(time, slope) + seasonality(time, period=365, amplitude=amplitude)\n",
        "# Update with noise\n",
        "series += noise(time, noise_level, seed=42)\n",
        "\n",
        "split_time = 1000\n",
        "time_train = time[:split_time]\n",
        "x_train = series[:split_time]\n",
        "time_valid = time[split_time:]\n",
        "x_valid = series[split_time:]\n",
        "\n",
        "window_size = 20\n",
        "batch_size = 32\n",
        "shuffle_buffer_size = 1000"
      ],
      "execution_count": 0,
      "outputs": []
    },
    {
      "cell_type": "code",
      "metadata": {
        "colab_type": "code",
        "id": "4sTTIOCbyShY",
        "colab": {}
      },
      "source": [
        "def windowed_dataset(series, window_size, batch_size, shuffle_buffer):\n",
        "  dataset = tf.data.Dataset.from_tensor_slices(series)\n",
        "  dataset = dataset.window(window_size + 1, shift=1, drop_remainder=True)\n",
        "  dataset = dataset.flat_map(lambda window: window.batch(window_size + 1))\n",
        "  dataset = dataset.shuffle(shuffle_buffer).map(lambda window: (window[:-1], window[-1]))\n",
        "  dataset = dataset.batch(batch_size).prefetch(1)\n",
        "  return dataset"
      ],
      "execution_count": 0,
      "outputs": []
    },
    {
      "cell_type": "code",
      "metadata": {
        "colab_type": "code",
        "id": "A1Hl39rklkLm",
        "outputId": "c82b2b3f-26b4-40e7-b831-5cd4d4a5cea3",
        "colab": {
          "base_uri": "https://localhost:8080/",
          "height": 1000
        }
      },
      "source": [
        "tf.keras.backend.clear_session()\n",
        "tf.random.set_seed(51)\n",
        "np.random.seed(51)\n",
        "\n",
        "tf.keras.backend.clear_session()\n",
        "dataset = windowed_dataset(x_train, window_size, batch_size, shuffle_buffer_size)\n",
        "\n",
        "model = tf.keras.models.Sequential([\n",
        "  tf.keras.layers.Lambda(lambda x: tf.expand_dims(x, axis=-1),\n",
        "                      input_shape=[None]),\n",
        "    tf.keras.layers.Bidirectional(tf.keras.layers.LSTM(32, return_sequences=True)),\n",
        "  tf.keras.layers.Bidirectional(tf.keras.layers.LSTM(32)),\n",
        "  tf.keras.layers.Dense(1),\n",
        "  tf.keras.layers.Lambda(lambda x: x * 100.0)\n",
        "])\n",
        "\n",
        "lr_schedule = tf.keras.callbacks.LearningRateScheduler(\n",
        "    lambda epoch: 1e-8 * 10**(epoch / 20))\n",
        "optimizer = tf.keras.optimizers.SGD(lr=1e-8, momentum=0.9)\n",
        "model.compile(loss=tf.keras.losses.Huber(),\n",
        "              optimizer=optimizer,\n",
        "              metrics=[\"mae\"])\n",
        "history = model.fit(dataset, epochs=100, callbacks=[lr_schedule])"
      ],
      "execution_count": 7,
      "outputs": [
        {
          "output_type": "stream",
          "text": [
            "Epoch 1/100\n",
            "31/31 [==============================] - 1s 27ms/step - loss: 21.5167 - mae: 22.0115 - lr: 1.0000e-08\n",
            "Epoch 2/100\n",
            "31/31 [==============================] - 1s 25ms/step - loss: 21.1522 - mae: 21.6444 - lr: 1.1220e-08\n",
            "Epoch 3/100\n",
            "31/31 [==============================] - 1s 26ms/step - loss: 20.7302 - mae: 21.2236 - lr: 1.2589e-08\n",
            "Epoch 4/100\n",
            "31/31 [==============================] - 1s 25ms/step - loss: 20.2834 - mae: 20.7757 - lr: 1.4125e-08\n",
            "Epoch 5/100\n",
            "31/31 [==============================] - 1s 25ms/step - loss: 19.7897 - mae: 20.2855 - lr: 1.5849e-08\n",
            "Epoch 6/100\n",
            "31/31 [==============================] - 1s 26ms/step - loss: 19.1782 - mae: 19.6696 - lr: 1.7783e-08\n",
            "Epoch 7/100\n",
            "31/31 [==============================] - 1s 25ms/step - loss: 18.2410 - mae: 18.7333 - lr: 1.9953e-08\n",
            "Epoch 8/100\n",
            "31/31 [==============================] - 1s 26ms/step - loss: 17.4825 - mae: 17.9748 - lr: 2.2387e-08\n",
            "Epoch 9/100\n",
            "31/31 [==============================] - 1s 26ms/step - loss: 17.1597 - mae: 17.6529 - lr: 2.5119e-08\n",
            "Epoch 10/100\n",
            "31/31 [==============================] - 1s 26ms/step - loss: 16.8547 - mae: 17.3463 - lr: 2.8184e-08\n",
            "Epoch 11/100\n",
            "31/31 [==============================] - 1s 24ms/step - loss: 16.5533 - mae: 17.0471 - lr: 3.1623e-08\n",
            "Epoch 12/100\n",
            "31/31 [==============================] - 1s 25ms/step - loss: 16.2565 - mae: 16.7524 - lr: 3.5481e-08\n",
            "Epoch 13/100\n",
            "31/31 [==============================] - 1s 25ms/step - loss: 15.9629 - mae: 16.4598 - lr: 3.9811e-08\n",
            "Epoch 14/100\n",
            "31/31 [==============================] - 1s 26ms/step - loss: 15.6593 - mae: 16.1548 - lr: 4.4668e-08\n",
            "Epoch 15/100\n",
            "31/31 [==============================] - 1s 26ms/step - loss: 15.3713 - mae: 15.8652 - lr: 5.0119e-08\n",
            "Epoch 16/100\n",
            "31/31 [==============================] - 1s 26ms/step - loss: 15.0752 - mae: 15.5697 - lr: 5.6234e-08\n",
            "Epoch 17/100\n",
            "31/31 [==============================] - 1s 26ms/step - loss: 14.7905 - mae: 15.2869 - lr: 6.3096e-08\n",
            "Epoch 18/100\n",
            "31/31 [==============================] - 1s 25ms/step - loss: 14.5229 - mae: 15.0178 - lr: 7.0795e-08\n",
            "Epoch 19/100\n",
            "31/31 [==============================] - 1s 26ms/step - loss: 14.2707 - mae: 14.7636 - lr: 7.9433e-08\n",
            "Epoch 20/100\n",
            "31/31 [==============================] - 1s 25ms/step - loss: 14.0293 - mae: 14.5217 - lr: 8.9125e-08\n",
            "Epoch 21/100\n",
            "31/31 [==============================] - 1s 25ms/step - loss: 13.8191 - mae: 14.3135 - lr: 1.0000e-07\n",
            "Epoch 22/100\n",
            "31/31 [==============================] - 1s 25ms/step - loss: 13.6084 - mae: 14.1032 - lr: 1.1220e-07\n",
            "Epoch 23/100\n",
            "31/31 [==============================] - 1s 25ms/step - loss: 13.4096 - mae: 13.9038 - lr: 1.2589e-07\n",
            "Epoch 24/100\n",
            "31/31 [==============================] - 1s 25ms/step - loss: 13.1859 - mae: 13.6794 - lr: 1.4125e-07\n",
            "Epoch 25/100\n",
            "31/31 [==============================] - 1s 25ms/step - loss: 12.9819 - mae: 13.4747 - lr: 1.5849e-07\n",
            "Epoch 26/100\n",
            "31/31 [==============================] - 1s 25ms/step - loss: 12.7278 - mae: 13.2184 - lr: 1.7783e-07\n",
            "Epoch 27/100\n",
            "31/31 [==============================] - 1s 27ms/step - loss: 12.4886 - mae: 12.9799 - lr: 1.9953e-07\n",
            "Epoch 28/100\n",
            "31/31 [==============================] - 1s 25ms/step - loss: 12.3459 - mae: 12.8362 - lr: 2.2387e-07\n",
            "Epoch 29/100\n",
            "31/31 [==============================] - 1s 26ms/step - loss: 11.9127 - mae: 12.4017 - lr: 2.5119e-07\n",
            "Epoch 30/100\n",
            "31/31 [==============================] - 1s 25ms/step - loss: 11.5934 - mae: 12.0835 - lr: 2.8184e-07\n",
            "Epoch 31/100\n",
            "31/31 [==============================] - 1s 26ms/step - loss: 11.2859 - mae: 11.7771 - lr: 3.1623e-07\n",
            "Epoch 32/100\n",
            "31/31 [==============================] - 1s 25ms/step - loss: 11.3520 - mae: 11.8418 - lr: 3.5481e-07\n",
            "Epoch 33/100\n",
            "31/31 [==============================] - 1s 26ms/step - loss: 10.5232 - mae: 11.0140 - lr: 3.9811e-07\n",
            "Epoch 34/100\n",
            "31/31 [==============================] - 1s 26ms/step - loss: 10.5478 - mae: 11.0358 - lr: 4.4668e-07\n",
            "Epoch 35/100\n",
            "31/31 [==============================] - 1s 25ms/step - loss: 10.0636 - mae: 10.5494 - lr: 5.0119e-07\n",
            "Epoch 36/100\n",
            "31/31 [==============================] - 1s 25ms/step - loss: 10.2477 - mae: 10.7381 - lr: 5.6234e-07\n",
            "Epoch 37/100\n",
            "31/31 [==============================] - 1s 25ms/step - loss: 10.1941 - mae: 10.6861 - lr: 6.3096e-07\n",
            "Epoch 38/100\n",
            "31/31 [==============================] - 1s 25ms/step - loss: 8.8515 - mae: 9.3366 - lr: 7.0795e-07\n",
            "Epoch 39/100\n",
            "31/31 [==============================] - 1s 25ms/step - loss: 8.9753 - mae: 9.4600 - lr: 7.9433e-07\n",
            "Epoch 40/100\n",
            "31/31 [==============================] - 1s 25ms/step - loss: 8.8164 - mae: 9.3036 - lr: 8.9125e-07\n",
            "Epoch 41/100\n",
            "31/31 [==============================] - 1s 25ms/step - loss: 8.5459 - mae: 9.0284 - lr: 1.0000e-06\n",
            "Epoch 42/100\n",
            "31/31 [==============================] - 1s 25ms/step - loss: 8.0811 - mae: 8.5653 - lr: 1.1220e-06\n",
            "Epoch 43/100\n",
            "31/31 [==============================] - 1s 25ms/step - loss: 7.7093 - mae: 8.1943 - lr: 1.2589e-06\n",
            "Epoch 44/100\n",
            "31/31 [==============================] - 1s 25ms/step - loss: 7.4564 - mae: 7.9410 - lr: 1.4125e-06\n",
            "Epoch 45/100\n",
            "31/31 [==============================] - 1s 25ms/step - loss: 7.2486 - mae: 7.7340 - lr: 1.5849e-06\n",
            "Epoch 46/100\n",
            "31/31 [==============================] - 1s 25ms/step - loss: 6.9762 - mae: 7.4602 - lr: 1.7783e-06\n",
            "Epoch 47/100\n",
            "31/31 [==============================] - 1s 25ms/step - loss: 6.7395 - mae: 7.2237 - lr: 1.9953e-06\n",
            "Epoch 48/100\n",
            "31/31 [==============================] - 1s 25ms/step - loss: 6.6101 - mae: 7.0922 - lr: 2.2387e-06\n",
            "Epoch 49/100\n",
            "31/31 [==============================] - 1s 25ms/step - loss: 6.2411 - mae: 6.7187 - lr: 2.5119e-06\n",
            "Epoch 50/100\n",
            "31/31 [==============================] - 1s 25ms/step - loss: 6.0609 - mae: 6.5379 - lr: 2.8184e-06\n",
            "Epoch 51/100\n",
            "31/31 [==============================] - 1s 24ms/step - loss: 5.9314 - mae: 6.4114 - lr: 3.1623e-06\n",
            "Epoch 52/100\n",
            "31/31 [==============================] - 1s 25ms/step - loss: 5.7961 - mae: 6.2783 - lr: 3.5481e-06\n",
            "Epoch 53/100\n",
            "31/31 [==============================] - 1s 25ms/step - loss: 5.6490 - mae: 6.1290 - lr: 3.9811e-06\n",
            "Epoch 54/100\n",
            "31/31 [==============================] - 1s 26ms/step - loss: 5.5383 - mae: 6.0138 - lr: 4.4668e-06\n",
            "Epoch 55/100\n",
            "31/31 [==============================] - 1s 25ms/step - loss: 5.4191 - mae: 5.8905 - lr: 5.0119e-06\n",
            "Epoch 56/100\n",
            "31/31 [==============================] - 1s 26ms/step - loss: 5.5639 - mae: 6.0354 - lr: 5.6234e-06\n",
            "Epoch 57/100\n",
            "31/31 [==============================] - 1s 25ms/step - loss: 5.3120 - mae: 5.7889 - lr: 6.3096e-06\n",
            "Epoch 58/100\n",
            "31/31 [==============================] - 1s 25ms/step - loss: 5.3468 - mae: 5.8296 - lr: 7.0795e-06\n",
            "Epoch 59/100\n",
            "31/31 [==============================] - 1s 26ms/step - loss: 5.1950 - mae: 5.6745 - lr: 7.9433e-06\n",
            "Epoch 60/100\n",
            "31/31 [==============================] - 1s 24ms/step - loss: 5.0930 - mae: 5.5679 - lr: 8.9125e-06\n",
            "Epoch 61/100\n",
            "31/31 [==============================] - 1s 26ms/step - loss: 5.4002 - mae: 5.8782 - lr: 1.0000e-05\n",
            "Epoch 62/100\n",
            "31/31 [==============================] - 1s 26ms/step - loss: 5.1736 - mae: 5.6535 - lr: 1.1220e-05\n",
            "Epoch 63/100\n",
            "31/31 [==============================] - 1s 25ms/step - loss: 5.1461 - mae: 5.6226 - lr: 1.2589e-05\n",
            "Epoch 64/100\n",
            "31/31 [==============================] - 1s 25ms/step - loss: 4.8616 - mae: 5.3347 - lr: 1.4125e-05\n",
            "Epoch 65/100\n",
            "31/31 [==============================] - 1s 26ms/step - loss: 4.9439 - mae: 5.4226 - lr: 1.5849e-05\n",
            "Epoch 66/100\n",
            "31/31 [==============================] - 1s 26ms/step - loss: 5.4599 - mae: 5.9406 - lr: 1.7783e-05\n",
            "Epoch 67/100\n",
            "31/31 [==============================] - 1s 26ms/step - loss: 5.9508 - mae: 6.4340 - lr: 1.9953e-05\n",
            "Epoch 68/100\n",
            "31/31 [==============================] - 1s 25ms/step - loss: 5.1626 - mae: 5.6397 - lr: 2.2387e-05\n",
            "Epoch 69/100\n",
            "31/31 [==============================] - 1s 26ms/step - loss: 5.8927 - mae: 6.3789 - lr: 2.5119e-05\n",
            "Epoch 70/100\n",
            "31/31 [==============================] - 1s 26ms/step - loss: 4.8861 - mae: 5.3636 - lr: 2.8184e-05\n",
            "Epoch 71/100\n",
            "31/31 [==============================] - 1s 26ms/step - loss: 5.2299 - mae: 5.7119 - lr: 3.1623e-05\n",
            "Epoch 72/100\n",
            "31/31 [==============================] - 1s 26ms/step - loss: 5.0074 - mae: 5.4850 - lr: 3.5481e-05\n",
            "Epoch 73/100\n",
            "31/31 [==============================] - 1s 26ms/step - loss: 6.5199 - mae: 7.0029 - lr: 3.9811e-05\n",
            "Epoch 74/100\n",
            "31/31 [==============================] - 1s 25ms/step - loss: 5.3577 - mae: 5.8371 - lr: 4.4668e-05\n",
            "Epoch 75/100\n",
            "31/31 [==============================] - 1s 25ms/step - loss: 5.5074 - mae: 5.9908 - lr: 5.0119e-05\n",
            "Epoch 76/100\n",
            "31/31 [==============================] - 1s 26ms/step - loss: 5.7396 - mae: 6.2225 - lr: 5.6234e-05\n",
            "Epoch 77/100\n",
            "31/31 [==============================] - 1s 25ms/step - loss: 7.4955 - mae: 7.9792 - lr: 6.3096e-05\n",
            "Epoch 78/100\n",
            "31/31 [==============================] - 1s 25ms/step - loss: 5.5770 - mae: 6.0561 - lr: 7.0795e-05\n",
            "Epoch 79/100\n",
            "31/31 [==============================] - 1s 25ms/step - loss: 5.1832 - mae: 5.6628 - lr: 7.9433e-05\n",
            "Epoch 80/100\n",
            "31/31 [==============================] - 1s 25ms/step - loss: 5.2091 - mae: 5.6860 - lr: 8.9125e-05\n",
            "Epoch 81/100\n",
            "31/31 [==============================] - 1s 26ms/step - loss: 7.8072 - mae: 8.2941 - lr: 1.0000e-04\n",
            "Epoch 82/100\n",
            "31/31 [==============================] - 1s 25ms/step - loss: 6.6753 - mae: 7.1600 - lr: 1.1220e-04\n",
            "Epoch 83/100\n",
            "31/31 [==============================] - 1s 25ms/step - loss: 5.4974 - mae: 5.9808 - lr: 1.2589e-04\n",
            "Epoch 84/100\n",
            "31/31 [==============================] - 1s 25ms/step - loss: 7.1557 - mae: 7.6383 - lr: 1.4125e-04\n",
            "Epoch 85/100\n",
            "31/31 [==============================] - 1s 25ms/step - loss: 6.2014 - mae: 6.6883 - lr: 1.5849e-04\n",
            "Epoch 86/100\n",
            "31/31 [==============================] - 1s 25ms/step - loss: 6.3438 - mae: 6.8254 - lr: 1.7783e-04\n",
            "Epoch 87/100\n",
            "31/31 [==============================] - 1s 25ms/step - loss: 7.3769 - mae: 7.8621 - lr: 1.9953e-04\n",
            "Epoch 88/100\n",
            "31/31 [==============================] - 1s 26ms/step - loss: 6.6155 - mae: 7.1018 - lr: 2.2387e-04\n",
            "Epoch 89/100\n",
            "31/31 [==============================] - 1s 25ms/step - loss: 6.3223 - mae: 6.8067 - lr: 2.5119e-04\n",
            "Epoch 90/100\n",
            "31/31 [==============================] - 1s 25ms/step - loss: 6.0455 - mae: 6.5275 - lr: 2.8184e-04\n",
            "Epoch 91/100\n",
            "31/31 [==============================] - 1s 25ms/step - loss: 11.7120 - mae: 12.1997 - lr: 3.1623e-04\n",
            "Epoch 92/100\n",
            "31/31 [==============================] - 1s 25ms/step - loss: 12.4869 - mae: 12.9775 - lr: 3.5481e-04\n",
            "Epoch 93/100\n",
            "31/31 [==============================] - 1s 26ms/step - loss: 11.3935 - mae: 11.8845 - lr: 3.9811e-04\n",
            "Epoch 94/100\n",
            "31/31 [==============================] - 1s 25ms/step - loss: 8.7384 - mae: 9.2302 - lr: 4.4668e-04\n",
            "Epoch 95/100\n",
            "31/31 [==============================] - 1s 25ms/step - loss: 8.2327 - mae: 8.7213 - lr: 5.0119e-04\n",
            "Epoch 96/100\n",
            "31/31 [==============================] - 1s 25ms/step - loss: 10.8287 - mae: 11.3202 - lr: 5.6234e-04\n",
            "Epoch 97/100\n",
            "31/31 [==============================] - 1s 25ms/step - loss: 10.9730 - mae: 11.4637 - lr: 6.3096e-04\n",
            "Epoch 98/100\n",
            "31/31 [==============================] - 1s 25ms/step - loss: 10.8153 - mae: 11.3056 - lr: 7.0795e-04\n",
            "Epoch 99/100\n",
            "31/31 [==============================] - 1s 25ms/step - loss: 9.9590 - mae: 10.4501 - lr: 7.9433e-04\n",
            "Epoch 100/100\n",
            "31/31 [==============================] - 1s 25ms/step - loss: 10.6891 - mae: 11.1790 - lr: 8.9125e-04\n"
          ],
          "name": "stdout"
        }
      ]
    },
    {
      "cell_type": "code",
      "metadata": {
        "colab_type": "code",
        "id": "AkBsrsXMzoWR",
        "outputId": "49ca0ff2-aa96-412e-8299-007711a7165c",
        "colab": {
          "base_uri": "https://localhost:8080/",
          "height": 290
        }
      },
      "source": [
        "plt.semilogx(history.history[\"lr\"], history.history[\"loss\"])\n",
        "plt.axis([1e-8, 1e-4, 0, 30])"
      ],
      "execution_count": 8,
      "outputs": [
        {
          "output_type": "execute_result",
          "data": {
            "text/plain": [
              "(1e-08, 0.0001, 0.0, 30.0)"
            ]
          },
          "metadata": {
            "tags": []
          },
          "execution_count": 8
        },
        {
          "output_type": "display_data",
          "data": {
            "image/png": "[encoded data removed]",
            "text/plain": [
              "<Figure size 432x288 with 1 Axes>"
            ]
          },
          "metadata": {
            "tags": [],
            "needs_background": "light"
          }
        }
      ]
    },
    {
      "cell_type": "code",
      "metadata": {
        "colab_type": "code",
        "id": "4uh-97bpLZCA",
        "colab": {}
      },
      "source": [
        "tf.keras.backend.clear_session()\n",
        "tf.random.set_seed(51)\n",
        "np.random.seed(51)\n",
        "\n",
        "tf.keras.backend.clear_session()\n",
        "dataset = windowed_dataset(x_train, window_size, batch_size, shuffle_buffer_size)\n",
        "\n",
        "model = tf.keras.models.Sequential([\n",
        "  tf.keras.layers.Lambda(lambda x: tf.expand_dims(x, axis=-1),\n",
        "                      input_shape=[None]),\n",
        "   tf.keras.layers.Bidirectional(tf.keras.layers.LSTM(32, return_sequences=True)),\n",
        "  tf.keras.layers.Bidirectional(tf.keras.layers.LSTM(32)),\n",
        "  tf.keras.layers.Dense(1),\n",
        "  tf.keras.layers.Lambda(lambda x: x * 100.0)\n",
        "])\n",
        "\n",
        "\n",
        "model.compile(loss=\"mse\", optimizer=tf.keras.optimizers.SGD(lr=1e-5, momentum=0.9),metrics=[\"mae\"])\n",
        "history = model.fit(dataset,epochs=500,verbose=0)"
      ],
      "execution_count": 0,
      "outputs": []
    },
    {
      "cell_type": "code",
      "metadata": {
        "colab_type": "code",
        "id": "icGDaND7z0ne",
        "outputId": "df146634-2aab-416b-defb-fc5207bf0cd0",
        "colab": {
          "base_uri": "https://localhost:8080/",
          "height": 388
        }
      },
      "source": [
        "forecast = []\n",
        "results = []\n",
        "for time in range(len(series) - window_size):\n",
        "  forecast.append(model.predict(series[time:time + window_size][np.newaxis]))\n",
        "\n",
        "forecast = forecast[split_time-window_size:]\n",
        "results = np.array(forecast)[:, 0, 0]\n",
        "\n",
        "\n",
        "plt.figure(figsize=(10, 6))\n",
        "\n",
        "plot_series(time_valid, x_valid)\n",
        "plot_series(time_valid, results)"
      ],
      "execution_count": 10,
      "outputs": [
        {
          "output_type": "display_data",
          "data": {
            "image/png": "[encoded data removed]",
            "text/plain": [
              "<Figure size 720x432 with 1 Axes>"
            ]
          },
          "metadata": {
            "tags": [],
            "needs_background": "light"
          }
        }
      ]
    },
    {
      "cell_type": "code",
      "metadata": {
        "colab_type": "code",
        "id": "KfPeqI7rz4LD",
        "outputId": "4906fbb0-9b1f-472c-d1af-44980d9b6f3d",
        "colab": {
          "base_uri": "https://localhost:8080/",
          "height": 34
        }
      },
      "source": [
        "tf.keras.metrics.mean_absolute_error(x_valid, results).numpy()"
      ],
      "execution_count": 11,
      "outputs": [
        {
          "output_type": "execute_result",
          "data": {
            "text/plain": [
              "5.5988264"
            ]
          },
          "metadata": {
            "tags": []
          },
          "execution_count": 11
        }
      ]
    },
    {
      "cell_type": "code",
      "metadata": {
        "colab_type": "code",
        "id": "JUsdZB_tzDLe",
        "outputId": "473ae774-8a73-4ea1-a178-d65a0f8b91dc",
        "colab": {
          "base_uri": "https://localhost:8080/",
          "height": 608
        }
      },
      "source": [
        "import matplotlib.image  as mpimg\n",
        "import matplotlib.pyplot as plt\n",
        "\n",
        "#-----------------------------------------------------------\n",
        "# Retrieve a list of list results on training and test data\n",
        "# sets for each training epoch\n",
        "#-----------------------------------------------------------\n",
        "mae=history.history['mae']\n",
        "loss=history.history['loss']\n",
        "\n",
        "epochs=range(len(loss)) # Get number of epochs\n",
        "\n",
        "#------------------------------------------------\n",
        "# Plot MAE and Loss\n",
        "#------------------------------------------------\n",
        "plt.plot(epochs, mae, 'r')\n",
        "plt.plot(epochs, loss, 'b')\n",
        "plt.title('MAE and Loss')\n",
        "plt.xlabel(\"Epochs\")\n",
        "plt.ylabel(\"Accuracy\")\n",
        "plt.legend([\"MAE\", \"Loss\"])\n",
        "\n",
        "plt.figure()\n",
        "\n",
        "epochs_zoom = epochs[200:]\n",
        "mae_zoom = mae[200:]\n",
        "loss_zoom = loss[200:]\n",
        "\n",
        "#------------------------------------------------\n",
        "# Plot Zoomed MAE and Loss\n",
        "#------------------------------------------------\n",
        "plt.plot(epochs_zoom, mae_zoom, 'r')\n",
        "plt.plot(epochs_zoom, loss_zoom, 'b')\n",
        "plt.title('MAE and Loss')\n",
        "plt.xlabel(\"Epochs\")\n",
        "plt.ylabel(\"Accuracy\")\n",
        "plt.legend([\"MAE\", \"Loss\"])\n",
        "\n",
        "plt.figure()"
      ],
      "execution_count": 12,
      "outputs": [
        {
          "output_type": "execute_result",
          "data": {
            "text/plain": [
              "<Figure size 432x288 with 0 Axes>"
            ]
          },
          "metadata": {
            "tags": []
          },
          "execution_count": 12
        },
        {
          "output_type": "display_data",
          "data": {
            "image/png": "[encoded data removed]",
            "text/plain": [
              "<Figure size 432x288 with 1 Axes>"
            ]
          },
          "metadata": {
            "tags": [],
            "needs_background": "light"
          }
        },
        {
          "output_type": "display_data",
          "data": {
            "image/png": "[encoded data removed]",
            "text/plain": [
              "<Figure size 432x288 with 1 Axes>"
            ]
          },
          "metadata": {
            "tags": [],
            "needs_background": "light"
          }
        },
        {
          "output_type": "display_data",
          "data": {
            "text/plain": [
              "<Figure size 432x288 with 0 Axes>"
            ]
          },
          "metadata": {
            "tags": []
          }
        }
      ]
    },
    {
      "cell_type": "code",
      "metadata": {
        "colab_type": "code",
        "id": "3CGaYFxXNEAK",
        "colab": {
          "base_uri": "https://localhost:8080/",
          "height": 34
        },
        "outputId": "825d3563-1f19-4d6c-a40f-ca51daad05e5"
      },
      "source": [
        "tf.keras.backend.clear_session()\n",
        "dataset = windowed_dataset(x_train, window_size, batch_size, shuffle_buffer_size)\n",
        "\n",
        "model = tf.keras.models.Sequential([\n",
        "  tf.keras.layers.Lambda(lambda x: tf.expand_dims(x, axis=-1),\n",
        "                      input_shape=[None]),\n",
        "  tf.keras.layers.Bidirectional(tf.keras.layers.LSTM(32, return_sequences=True)),\n",
        "  tf.keras.layers.Bidirectional(tf.keras.layers.LSTM(32)),\n",
        "  tf.keras.layers.Dense(1),\n",
        "  tf.keras.layers.Lambda(lambda x: x * 100.0)\n",
        "])\n",
        "\n",
        "\n",
        "model.compile(loss=\"mse\", optimizer=tf.keras.optimizers.SGD(lr=1e-6, momentum=0.9))\n",
        "model.fit(dataset,epochs=100, verbose=0)"
      ],
      "execution_count": 13,
      "outputs": [
        {
          "output_type": "execute_result",
          "data": {
            "text/plain": [
              "<tensorflow.python.keras.callbacks.History at 0x7f8933b30860>"
            ]
          },
          "metadata": {
            "tags": []
          },
          "execution_count": 13
        }
      ]
    },
    {
      "cell_type": "code",
      "metadata": {
        "colab_type": "code",
        "id": "FJ3R8ysauz9e",
        "colab": {
          "base_uri": "https://localhost:8080/",
          "height": 1000
        },
        "outputId": "65c2f16b-d121-4002-84a4-9104834b2f9b"
      },
      "source": [
        "tf.keras.backend.clear_session()\n",
        "dataset = windowed_dataset(x_train, window_size, batch_size, shuffle_buffer_size)\n",
        "\n",
        "model = tf.keras.models.Sequential([\n",
        "  tf.keras.layers.Lambda(lambda x: tf.expand_dims(x, axis=-1),\n",
        "                      input_shape=[None]),\n",
        "  tf.keras.layers.Bidirectional(tf.keras.layers.LSTM(32, return_sequences=True)),\n",
        "  tf.keras.layers.Bidirectional(tf.keras.layers.LSTM(32, return_sequences=True)),\n",
        "  tf.keras.layers.Bidirectional(tf.keras.layers.LSTM(32)),\n",
        "  tf.keras.layers.Dense(1),\n",
        "  tf.keras.layers.Lambda(lambda x: x * 100.0)\n",
        "])\n",
        "\n",
        "\n",
        "model.compile(loss=\"mse\", optimizer=tf.keras.optimizers.SGD(lr=1e-6, momentum=0.9))\n",
        "model.fit(dataset,epochs=100)"
      ],
      "execution_count": 14,
      "outputs": [
        {
          "output_type": "stream",
          "text": [
            "Epoch 1/100\n",
            "31/31 [==============================] - 1s 37ms/step - loss: 755.7014\n",
            "Epoch 2/100\n",
            "31/31 [==============================] - 1s 37ms/step - loss: 152.7785\n",
            "Epoch 3/100\n",
            "31/31 [==============================] - 1s 37ms/step - loss: 97.9761\n",
            "Epoch 4/100\n",
            "31/31 [==============================] - 1s 37ms/step - loss: 83.2915\n",
            "Epoch 5/100\n",
            "31/31 [==============================] - 1s 37ms/step - loss: 78.2600\n",
            "Epoch 6/100\n",
            "31/31 [==============================] - 1s 37ms/step - loss: 73.4347\n",
            "Epoch 7/100\n",
            "31/31 [==============================] - 1s 37ms/step - loss: 67.8632\n",
            "Epoch 8/100\n",
            "31/31 [==============================] - 1s 37ms/step - loss: 74.5354\n",
            "Epoch 9/100\n",
            "31/31 [==============================] - 1s 38ms/step - loss: 73.1458\n",
            "Epoch 10/100\n",
            "31/31 [==============================] - 1s 38ms/step - loss: 63.4809\n",
            "Epoch 11/100\n",
            "31/31 [==============================] - 1s 38ms/step - loss: 60.9757\n",
            "Epoch 12/100\n",
            "31/31 [==============================] - 1s 37ms/step - loss: 57.7044\n",
            "Epoch 13/100\n",
            "31/31 [==============================] - 1s 37ms/step - loss: 62.4454\n",
            "Epoch 14/100\n",
            "31/31 [==============================] - 1s 38ms/step - loss: 56.6497\n",
            "Epoch 15/100\n",
            "31/31 [==============================] - 1s 37ms/step - loss: 53.2329\n",
            "Epoch 16/100\n",
            "31/31 [==============================] - 1s 38ms/step - loss: 65.0537\n",
            "Epoch 17/100\n",
            "31/31 [==============================] - 1s 37ms/step - loss: 58.6710\n",
            "Epoch 18/100\n",
            "31/31 [==============================] - 1s 37ms/step - loss: 60.0726\n",
            "Epoch 19/100\n",
            "31/31 [==============================] - 1s 38ms/step - loss: 56.1999\n",
            "Epoch 20/100\n",
            "31/31 [==============================] - 1s 37ms/step - loss: 55.7786\n",
            "Epoch 21/100\n",
            "31/31 [==============================] - 1s 37ms/step - loss: 51.2688\n",
            "Epoch 22/100\n",
            "31/31 [==============================] - 1s 37ms/step - loss: 54.9552\n",
            "Epoch 23/100\n",
            "31/31 [==============================] - 1s 37ms/step - loss: 51.5538\n",
            "Epoch 24/100\n",
            "31/31 [==============================] - 1s 37ms/step - loss: 55.4753\n",
            "Epoch 25/100\n",
            "31/31 [==============================] - 1s 37ms/step - loss: 48.4559\n",
            "Epoch 26/100\n",
            "31/31 [==============================] - 1s 37ms/step - loss: 54.2121\n",
            "Epoch 27/100\n",
            "31/31 [==============================] - 1s 37ms/step - loss: 54.4619\n",
            "Epoch 28/100\n",
            "31/31 [==============================] - 1s 37ms/step - loss: 54.1912\n",
            "Epoch 29/100\n",
            "31/31 [==============================] - 1s 37ms/step - loss: 48.2903\n",
            "Epoch 30/100\n",
            "31/31 [==============================] - 1s 37ms/step - loss: 49.6825\n",
            "Epoch 31/100\n",
            "31/31 [==============================] - 1s 37ms/step - loss: 53.0422\n",
            "Epoch 32/100\n",
            "31/31 [==============================] - 1s 38ms/step - loss: 56.4042\n",
            "Epoch 33/100\n",
            "31/31 [==============================] - 1s 37ms/step - loss: 47.9185\n",
            "Epoch 34/100\n",
            "31/31 [==============================] - 1s 37ms/step - loss: 50.2060\n",
            "Epoch 35/100\n",
            "31/31 [==============================] - 1s 38ms/step - loss: 48.2373\n",
            "Epoch 36/100\n",
            "31/31 [==============================] - 1s 37ms/step - loss: 47.5874\n",
            "Epoch 37/100\n",
            "31/31 [==============================] - 1s 37ms/step - loss: 53.0302\n",
            "Epoch 38/100\n",
            "31/31 [==============================] - 1s 37ms/step - loss: 47.7121\n",
            "Epoch 39/100\n",
            "31/31 [==============================] - 1s 38ms/step - loss: 47.2859\n",
            "Epoch 40/100\n",
            "31/31 [==============================] - 1s 38ms/step - loss: 48.6493\n",
            "Epoch 41/100\n",
            "31/31 [==============================] - 1s 38ms/step - loss: 46.0403\n",
            "Epoch 42/100\n",
            "31/31 [==============================] - 1s 38ms/step - loss: 49.4847\n",
            "Epoch 43/100\n",
            "31/31 [==============================] - 1s 37ms/step - loss: 48.2804\n",
            "Epoch 44/100\n",
            "31/31 [==============================] - 1s 37ms/step - loss: 51.2780\n",
            "Epoch 45/100\n",
            "31/31 [==============================] - 1s 37ms/step - loss: 48.2863\n",
            "Epoch 46/100\n",
            "31/31 [==============================] - 1s 38ms/step - loss: 51.8344\n",
            "Epoch 47/100\n",
            "31/31 [==============================] - 1s 37ms/step - loss: 49.9794\n",
            "Epoch 48/100\n",
            "31/31 [==============================] - 1s 37ms/step - loss: 45.3264\n",
            "Epoch 49/100\n",
            "31/31 [==============================] - 1s 38ms/step - loss: 45.0664\n",
            "Epoch 50/100\n",
            "31/31 [==============================] - 1s 38ms/step - loss: 45.8870\n",
            "Epoch 51/100\n",
            "31/31 [==============================] - 1s 38ms/step - loss: 49.2073\n",
            "Epoch 52/100\n",
            "31/31 [==============================] - 1s 38ms/step - loss: 50.4170\n",
            "Epoch 53/100\n",
            "31/31 [==============================] - 1s 37ms/step - loss: 50.7224\n",
            "Epoch 54/100\n",
            "31/31 [==============================] - 1s 38ms/step - loss: 44.6063\n",
            "Epoch 55/100\n",
            "31/31 [==============================] - 1s 38ms/step - loss: 47.2966\n",
            "Epoch 56/100\n",
            "31/31 [==============================] - 1s 38ms/step - loss: 46.8540\n",
            "Epoch 57/100\n",
            "31/31 [==============================] - 1s 38ms/step - loss: 46.1015\n",
            "Epoch 58/100\n",
            "31/31 [==============================] - 1s 38ms/step - loss: 45.2351\n",
            "Epoch 59/100\n",
            "31/31 [==============================] - 1s 38ms/step - loss: 45.4370\n",
            "Epoch 60/100\n",
            "31/31 [==============================] - 1s 38ms/step - loss: 46.3429\n",
            "Epoch 61/100\n",
            "31/31 [==============================] - 1s 38ms/step - loss: 46.9665\n",
            "Epoch 62/100\n",
            "31/31 [==============================] - 1s 37ms/step - loss: 46.5664\n",
            "Epoch 63/100\n",
            "31/31 [==============================] - 1s 39ms/step - loss: 45.2381\n",
            "Epoch 64/100\n",
            "31/31 [==============================] - 1s 37ms/step - loss: 45.0082\n",
            "Epoch 65/100\n",
            "31/31 [==============================] - 1s 37ms/step - loss: 44.2408\n",
            "Epoch 66/100\n",
            "31/31 [==============================] - 1s 37ms/step - loss: 43.7104\n",
            "Epoch 67/100\n",
            "31/31 [==============================] - 1s 38ms/step - loss: 44.6086\n",
            "Epoch 68/100\n",
            "31/31 [==============================] - 1s 37ms/step - loss: 48.9862\n",
            "Epoch 69/100\n",
            "31/31 [==============================] - 1s 37ms/step - loss: 49.3742\n",
            "Epoch 70/100\n",
            "31/31 [==============================] - 1s 37ms/step - loss: 48.0163\n",
            "Epoch 71/100\n",
            "31/31 [==============================] - 1s 38ms/step - loss: 43.7251\n",
            "Epoch 72/100\n",
            "31/31 [==============================] - 1s 38ms/step - loss: 46.3182\n",
            "Epoch 73/100\n",
            "31/31 [==============================] - 1s 37ms/step - loss: 45.2350\n",
            "Epoch 74/100\n",
            "31/31 [==============================] - 1s 37ms/step - loss: 43.9390\n",
            "Epoch 75/100\n",
            "31/31 [==============================] - 1s 38ms/step - loss: 45.4765\n",
            "Epoch 76/100\n",
            "31/31 [==============================] - 1s 38ms/step - loss: 46.1003\n",
            "Epoch 77/100\n",
            "31/31 [==============================] - 1s 38ms/step - loss: 45.5499\n",
            "Epoch 78/100\n",
            "31/31 [==============================] - 1s 38ms/step - loss: 44.7749\n",
            "Epoch 79/100\n",
            "31/31 [==============================] - 1s 38ms/step - loss: 44.7591\n",
            "Epoch 80/100\n",
            "31/31 [==============================] - 1s 38ms/step - loss: 51.3417\n",
            "Epoch 81/100\n",
            "31/31 [==============================] - 1s 37ms/step - loss: 53.4107\n",
            "Epoch 82/100\n",
            "31/31 [==============================] - 1s 37ms/step - loss: 45.4838\n",
            "Epoch 83/100\n",
            "31/31 [==============================] - 1s 38ms/step - loss: 45.8837\n",
            "Epoch 84/100\n",
            "31/31 [==============================] - 1s 38ms/step - loss: 46.3761\n",
            "Epoch 85/100\n",
            "31/31 [==============================] - 1s 37ms/step - loss: 44.9510\n",
            "Epoch 86/100\n",
            "31/31 [==============================] - 1s 37ms/step - loss: 43.7665\n",
            "Epoch 87/100\n",
            "31/31 [==============================] - 1s 38ms/step - loss: 51.7506\n",
            "Epoch 88/100\n",
            "31/31 [==============================] - 1s 37ms/step - loss: 46.2335\n",
            "Epoch 89/100\n",
            "31/31 [==============================] - 1s 38ms/step - loss: 48.7304\n",
            "Epoch 90/100\n",
            "31/31 [==============================] - 1s 37ms/step - loss: 45.3579\n",
            "Epoch 91/100\n",
            "31/31 [==============================] - 1s 37ms/step - loss: 53.3695\n",
            "Epoch 92/100\n",
            "31/31 [==============================] - 1s 38ms/step - loss: 44.1400\n",
            "Epoch 93/100\n",
            "31/31 [==============================] - 1s 37ms/step - loss: 43.6139\n",
            "Epoch 94/100\n",
            "31/31 [==============================] - 1s 37ms/step - loss: 46.2337\n",
            "Epoch 95/100\n",
            "31/31 [==============================] - 1s 37ms/step - loss: 44.8032\n",
            "Epoch 96/100\n",
            "31/31 [==============================] - 1s 37ms/step - loss: 44.4877\n",
            "Epoch 97/100\n",
            "31/31 [==============================] - 1s 38ms/step - loss: 44.1543\n",
            "Epoch 98/100\n",
            "31/31 [==============================] - 1s 37ms/step - loss: 44.8083\n",
            "Epoch 99/100\n",
            "31/31 [==============================] - 1s 37ms/step - loss: 45.3499\n",
            "Epoch 100/100\n",
            "31/31 [==============================] - 1s 37ms/step - loss: 46.9555\n"
          ],
          "name": "stdout"
        },
        {
          "output_type": "execute_result",
          "data": {
            "text/plain": [
              "<tensorflow.python.keras.callbacks.History at 0x7f89310f8940>"
            ]
          },
          "metadata": {
            "tags": []
          },
          "execution_count": 14
        }
      ]
    },
    {
      "cell_type": "code",
      "metadata": {
        "id": "8ejUVtq4RJ5Q",
        "colab_type": "code",
        "colab": {}
      },
      "source": [
        ""
      ],
      "execution_count": 0,
      "outputs": []
    }
  ]
}